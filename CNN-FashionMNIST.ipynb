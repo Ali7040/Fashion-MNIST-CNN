{
 "cells": [
  {
   "cell_type": "code",
   "execution_count": 1,
   "id": "7c566028",
   "metadata": {
    "_cell_guid": "5364e53a-1c17-4924-bb19-d283c5a4ed79",
    "_uuid": "5a1f5c41-b217-43a9-baea-92ca8b377b7f",
    "collapsed": false,
    "execution": {
     "iopub.execute_input": "2025-06-20T16:45:10.645985Z",
     "iopub.status.busy": "2025-06-20T16:45:10.645669Z",
     "iopub.status.idle": "2025-06-20T16:45:26.136407Z",
     "shell.execute_reply": "2025-06-20T16:45:26.135498Z"
    },
    "jupyter": {
     "outputs_hidden": false
    },
    "papermill": {
     "duration": 15.495153,
     "end_time": "2025-06-20T16:45:26.137704",
     "exception": false,
     "start_time": "2025-06-20T16:45:10.642551",
     "status": "completed"
    },
    "tags": []
   },
   "outputs": [
    {
     "name": "stdout",
     "output_type": "stream",
     "text": [
      "/kaggle/input/fashionmnist/t10k-labels-idx1-ubyte\n",
      "/kaggle/input/fashionmnist/t10k-images-idx3-ubyte\n",
      "/kaggle/input/fashionmnist/fashion-mnist_test.csv\n",
      "/kaggle/input/fashionmnist/fashion-mnist_train.csv\n",
      "/kaggle/input/fashionmnist/train-labels-idx1-ubyte\n",
      "/kaggle/input/fashionmnist/train-images-idx3-ubyte\n"
     ]
    }
   ],
   "source": [
    "#all imports here\n",
    "import numpy as np \n",
    "import pandas as pd\n",
    "import torch\n",
    "import torch.nn as nn\n",
    "import torch.optim as optim\n",
    "from torchvision import datasets, transforms\n",
    "from torch.utils.data import DataLoader\n",
    "import matplotlib.pyplot as plt\n",
    "\n",
    "\n",
    "import os\n",
    "for dirname, _, filenames in os.walk('/kaggle/input'):\n",
    "    for filename in filenames:\n",
    "        print(os.path.join(dirname, filename))\n"
   ]
  },
  {
   "cell_type": "code",
   "execution_count": 2,
   "id": "bbe22bfb",
   "metadata": {
    "execution": {
     "iopub.execute_input": "2025-06-20T16:45:26.142368Z",
     "iopub.status.busy": "2025-06-20T16:45:26.142049Z",
     "iopub.status.idle": "2025-06-20T16:45:26.236905Z",
     "shell.execute_reply": "2025-06-20T16:45:26.236071Z"
    },
    "papermill": {
     "duration": 0.098392,
     "end_time": "2025-06-20T16:45:26.238282",
     "exception": false,
     "start_time": "2025-06-20T16:45:26.139890",
     "status": "completed"
    },
    "tags": []
   },
   "outputs": [],
   "source": [
    "# Device configuration\n",
    "device = torch.device(\"cuda\" if torch.cuda.is_available() else \"cpu\")"
   ]
  },
  {
   "cell_type": "code",
   "execution_count": 3,
   "id": "5688ab31",
   "metadata": {
    "execution": {
     "iopub.execute_input": "2025-06-20T16:45:26.242338Z",
     "iopub.status.busy": "2025-06-20T16:45:26.242113Z",
     "iopub.status.idle": "2025-06-20T16:45:26.245517Z",
     "shell.execute_reply": "2025-06-20T16:45:26.244855Z"
    },
    "papermill": {
     "duration": 0.006552,
     "end_time": "2025-06-20T16:45:26.246598",
     "exception": false,
     "start_time": "2025-06-20T16:45:26.240046",
     "status": "completed"
    },
    "tags": []
   },
   "outputs": [],
   "source": [
    "# Data preprocessing\n",
    "transform = transforms.Compose([\n",
    "    transforms.ToTensor(),\n",
    "])\n"
   ]
  },
  {
   "cell_type": "code",
   "execution_count": 4,
   "id": "4fbcee98",
   "metadata": {
    "execution": {
     "iopub.execute_input": "2025-06-20T16:45:26.250246Z",
     "iopub.status.busy": "2025-06-20T16:45:26.250040Z",
     "iopub.status.idle": "2025-06-20T16:45:32.516636Z",
     "shell.execute_reply": "2025-06-20T16:45:32.515889Z"
    },
    "papermill": {
     "duration": 6.269877,
     "end_time": "2025-06-20T16:45:32.517930",
     "exception": false,
     "start_time": "2025-06-20T16:45:26.248053",
     "status": "completed"
    },
    "tags": []
   },
   "outputs": [
    {
     "name": "stderr",
     "output_type": "stream",
     "text": [
      "100%|██████████| 26.4M/26.4M [00:01<00:00, 18.1MB/s]\n",
      "100%|██████████| 29.5k/29.5k [00:00<00:00, 268kB/s]\n",
      "100%|██████████| 4.42M/4.42M [00:00<00:00, 5.02MB/s]\n",
      "100%|██████████| 5.15k/5.15k [00:00<00:00, 10.9MB/s]\n"
     ]
    }
   ],
   "source": [
    "# Load FashionMNIST Dataset\n",
    "train_dataset = datasets.FashionMNIST(root='./data', train=True, transform=transform, download=True)\n",
    "test_dataset = datasets.FashionMNIST(root='./data', train=False, transform=transform, download=True)"
   ]
  },
  {
   "cell_type": "code",
   "execution_count": null,
   "id": "18439a53",
   "metadata": {
    "papermill": {
     "duration": 0.002763,
     "end_time": "2025-06-20T16:45:32.524285",
     "exception": false,
     "start_time": "2025-06-20T16:45:32.521522",
     "status": "completed"
    },
    "tags": []
   },
   "outputs": [],
   "source": []
  }
 ],
 "metadata": {
  "kaggle": {
   "accelerator": "nvidiaTeslaT4",
   "dataSources": [
    {
     "datasetId": 2243,
     "sourceId": 9243,
     "sourceType": "datasetVersion"
    }
   ],
   "isGpuEnabled": true,
   "isInternetEnabled": true,
   "language": "python",
   "sourceType": "notebook"
  },
  "kernelspec": {
   "display_name": "Python 3",
   "language": "python",
   "name": "python3"
  },
  "language_info": {
   "codemirror_mode": {
    "name": "ipython",
    "version": 3
   },
   "file_extension": ".py",
   "mimetype": "text/x-python",
   "name": "python",
   "nbconvert_exporter": "python",
   "pygments_lexer": "ipython3",
   "version": "3.11.11"
  },
  "papermill": {
   "default_parameters": {},
   "duration": 31.021518,
   "end_time": "2025-06-20T16:45:35.734112",
   "environment_variables": {},
   "exception": null,
   "input_path": "__notebook__.ipynb",
   "output_path": "__notebook__.ipynb",
   "parameters": {},
   "start_time": "2025-06-20T16:45:04.712594",
   "version": "2.6.0"
  }
 },
 "nbformat": 4,
 "nbformat_minor": 5
}
