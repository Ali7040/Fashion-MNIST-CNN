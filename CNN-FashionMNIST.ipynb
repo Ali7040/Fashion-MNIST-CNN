{
 "cells": [
  {
   "cell_type": "code",
   "execution_count": 1,
   "id": "92b39321",
   "metadata": {
    "_cell_guid": "5364e53a-1c17-4924-bb19-d283c5a4ed79",
    "_uuid": "5a1f5c41-b217-43a9-baea-92ca8b377b7f",
    "collapsed": false,
    "execution": {
     "iopub.execute_input": "2025-06-22T08:18:44.831452Z",
     "iopub.status.busy": "2025-06-22T08:18:44.831228Z",
     "iopub.status.idle": "2025-06-22T08:19:02.254695Z",
     "shell.execute_reply": "2025-06-22T08:19:02.253871Z"
    },
    "jupyter": {
     "outputs_hidden": false
    },
    "papermill": {
     "duration": 17.428747,
     "end_time": "2025-06-22T08:19:02.256159",
     "exception": false,
     "start_time": "2025-06-22T08:18:44.827412",
     "status": "completed"
    },
    "tags": []
   },
   "outputs": [
    {
     "name": "stdout",
     "output_type": "stream",
     "text": [
      "/kaggle/input/fashionmnist/t10k-labels-idx1-ubyte\n",
      "/kaggle/input/fashionmnist/t10k-images-idx3-ubyte\n",
      "/kaggle/input/fashionmnist/fashion-mnist_test.csv\n",
      "/kaggle/input/fashionmnist/fashion-mnist_train.csv\n",
      "/kaggle/input/fashionmnist/train-labels-idx1-ubyte\n",
      "/kaggle/input/fashionmnist/train-images-idx3-ubyte\n"
     ]
    }
   ],
   "source": [
    "#all imports here\n",
    "import numpy as np \n",
    "import pandas as pd\n",
    "import torch\n",
    "import torch.nn as nn\n",
    "import torch.optim as optim\n",
    "from torchvision import datasets, transforms\n",
    "from torch.utils.data import DataLoader\n",
    "import matplotlib.pyplot as plt\n",
    "\n",
    "\n",
    "import os\n",
    "for dirname, _, filenames in os.walk('/kaggle/input'):\n",
    "    for filename in filenames:\n",
    "        print(os.path.join(dirname, filename))\n"
   ]
  },
  {
   "cell_type": "code",
   "execution_count": 2,
   "id": "5ff6e237",
   "metadata": {
    "execution": {
     "iopub.execute_input": "2025-06-22T08:19:02.261025Z",
     "iopub.status.busy": "2025-06-22T08:19:02.260661Z",
     "iopub.status.idle": "2025-06-22T08:19:02.343307Z",
     "shell.execute_reply": "2025-06-22T08:19:02.342541Z"
    },
    "papermill": {
     "duration": 0.086226,
     "end_time": "2025-06-22T08:19:02.344519",
     "exception": false,
     "start_time": "2025-06-22T08:19:02.258293",
     "status": "completed"
    },
    "tags": []
   },
   "outputs": [],
   "source": [
    "# Device configuration\n",
    "device = torch.device(\"cuda\" if torch.cuda.is_available() else \"cpu\")"
   ]
  },
  {
   "cell_type": "code",
   "execution_count": 3,
   "id": "a777df2c",
   "metadata": {
    "execution": {
     "iopub.execute_input": "2025-06-22T08:19:02.349416Z",
     "iopub.status.busy": "2025-06-22T08:19:02.348830Z",
     "iopub.status.idle": "2025-06-22T08:19:02.352165Z",
     "shell.execute_reply": "2025-06-22T08:19:02.351626Z"
    },
    "papermill": {
     "duration": 0.006732,
     "end_time": "2025-06-22T08:19:02.353217",
     "exception": false,
     "start_time": "2025-06-22T08:19:02.346485",
     "status": "completed"
    },
    "tags": []
   },
   "outputs": [],
   "source": [
    "# Data preprocessing\n",
    "transform = transforms.Compose([\n",
    "    transforms.ToTensor(),\n",
    "])\n"
   ]
  },
  {
   "cell_type": "code",
   "execution_count": 4,
   "id": "4642f70b",
   "metadata": {
    "execution": {
     "iopub.execute_input": "2025-06-22T08:19:02.357319Z",
     "iopub.status.busy": "2025-06-22T08:19:02.357138Z",
     "iopub.status.idle": "2025-06-22T08:19:07.866583Z",
     "shell.execute_reply": "2025-06-22T08:19:07.865738Z"
    },
    "papermill": {
     "duration": 5.512861,
     "end_time": "2025-06-22T08:19:07.867766",
     "exception": false,
     "start_time": "2025-06-22T08:19:02.354905",
     "status": "completed"
    },
    "tags": []
   },
   "outputs": [
    {
     "name": "stderr",
     "output_type": "stream",
     "text": [
      "100%|██████████| 26.4M/26.4M [00:01<00:00, 15.2MB/s]\n",
      "100%|██████████| 29.5k/29.5k [00:00<00:00, 269kB/s]\n",
      "100%|██████████| 4.42M/4.42M [00:00<00:00, 4.98MB/s]\n",
      "100%|██████████| 5.15k/5.15k [00:00<00:00, 24.3MB/s]\n"
     ]
    }
   ],
   "source": [
    "# Load FashionMNIST Dataset\n",
    "train_dataset = datasets.FashionMNIST(root='./data', train=True, transform=transform, download=True)\n",
    "test_dataset = datasets.FashionMNIST(root='./data', train=False, transform=transform, download=True)"
   ]
  },
  {
   "cell_type": "code",
   "execution_count": 5,
   "id": "13812c1c",
   "metadata": {
    "execution": {
     "iopub.execute_input": "2025-06-22T08:19:07.875386Z",
     "iopub.status.busy": "2025-06-22T08:19:07.875152Z",
     "iopub.status.idle": "2025-06-22T08:19:07.878691Z",
     "shell.execute_reply": "2025-06-22T08:19:07.878208Z"
    },
    "papermill": {
     "duration": 0.008215,
     "end_time": "2025-06-22T08:19:07.879677",
     "exception": false,
     "start_time": "2025-06-22T08:19:07.871462",
     "status": "completed"
    },
    "tags": []
   },
   "outputs": [],
   "source": [
    "batch_size = 32\n",
    "train_loader = DataLoader(train_dataset, batch_size=batch_size, shuffle=True)\n",
    "val_loader = DataLoader(test_dataset, batch_size=batch_size, shuffle=False)"
   ]
  },
  {
   "cell_type": "code",
   "execution_count": 6,
   "id": "d203f727",
   "metadata": {
    "execution": {
     "iopub.execute_input": "2025-06-22T08:19:07.886884Z",
     "iopub.status.busy": "2025-06-22T08:19:07.886376Z",
     "iopub.status.idle": "2025-06-22T08:19:07.890295Z",
     "shell.execute_reply": "2025-06-22T08:19:07.889556Z"
    },
    "papermill": {
     "duration": 0.008641,
     "end_time": "2025-06-22T08:19:07.891436",
     "exception": false,
     "start_time": "2025-06-22T08:19:07.882795",
     "status": "completed"
    },
    "tags": []
   },
   "outputs": [],
   "source": [
    "# Class names\n",
    "class_names = ['T-shirt/top', 'Trouser', 'Pullover', 'Dress', 'Coat',\n",
    "               'Sandal', 'Shirt', 'Sneaker', 'Bag', 'Ankle boot']"
   ]
  },
  {
   "cell_type": "code",
   "execution_count": 7,
   "id": "3de7022c",
   "metadata": {
    "execution": {
     "iopub.execute_input": "2025-06-22T08:19:07.898718Z",
     "iopub.status.busy": "2025-06-22T08:19:07.898367Z",
     "iopub.status.idle": "2025-06-22T08:19:08.138413Z",
     "shell.execute_reply": "2025-06-22T08:19:08.137707Z"
    },
    "papermill": {
     "duration": 0.245066,
     "end_time": "2025-06-22T08:19:08.139855",
     "exception": false,
     "start_time": "2025-06-22T08:19:07.894789",
     "status": "completed"
    },
    "tags": []
   },
   "outputs": [],
   "source": [
    "# CNN Model\n",
    "class CNNModel(nn.Module):\n",
    "    def __init__(self):\n",
    "        super(CNNModel, self).__init__()\n",
    "        self.conv1 = nn.Conv2d(1, 32, kernel_size=3)\n",
    "        self.pool1 = nn.MaxPool2d(2, 2)\n",
    "        self.conv2 = nn.Conv2d(32, 64, kernel_size=3)\n",
    "        self.pool2 = nn.MaxPool2d(2, 2)\n",
    "        self.flatten = nn.Flatten()\n",
    "        self.fc1 = nn.Linear(64 * 5 * 5, 64)\n",
    "        self.fc2 = nn.Linear(64, 10)\n",
    "\n",
    "    def forward(self, x):\n",
    "        x = torch.relu(self.conv1(x))\n",
    "        x = self.pool1(x)\n",
    "        x = torch.relu(self.conv2(x))\n",
    "        x = self.pool2(x)\n",
    "        x = self.flatten(x)\n",
    "        x = torch.relu(self.fc1(x))\n",
    "        return self.fc2(x)\n",
    "\n",
    "model = CNNModel().to(device)"
   ]
  },
  {
   "cell_type": "code",
   "execution_count": null,
   "id": "c461e9f8",
   "metadata": {
    "papermill": {
     "duration": 0.003138,
     "end_time": "2025-06-22T08:19:08.147723",
     "exception": false,
     "start_time": "2025-06-22T08:19:08.144585",
     "status": "completed"
    },
    "tags": []
   },
   "outputs": [],
   "source": []
  }
 ],
 "metadata": {
  "kaggle": {
   "accelerator": "nvidiaTeslaT4",
   "dataSources": [
    {
     "datasetId": 2243,
     "sourceId": 9243,
     "sourceType": "datasetVersion"
    }
   ],
   "isGpuEnabled": true,
   "isInternetEnabled": true,
   "language": "python",
   "sourceType": "notebook"
  },
  "kernelspec": {
   "display_name": "Python 3",
   "language": "python",
   "name": "python3"
  },
  "language_info": {
   "codemirror_mode": {
    "name": "ipython",
    "version": 3
   },
   "file_extension": ".py",
   "mimetype": "text/x-python",
   "name": "python",
   "nbconvert_exporter": "python",
   "pygments_lexer": "ipython3",
   "version": "3.11.11"
  },
  "papermill": {
   "default_parameters": {},
   "duration": 33.221081,
   "end_time": "2025-06-22T08:19:11.648909",
   "environment_variables": {},
   "exception": null,
   "input_path": "__notebook__.ipynb",
   "output_path": "__notebook__.ipynb",
   "parameters": {},
   "start_time": "2025-06-22T08:18:38.427828",
   "version": "2.6.0"
  }
 },
 "nbformat": 4,
 "nbformat_minor": 5
}
