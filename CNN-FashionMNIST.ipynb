{
 "cells": [
  {
   "cell_type": "code",
   "execution_count": 1,
   "id": "fea5fd9b",
   "metadata": {
    "_cell_guid": "5364e53a-1c17-4924-bb19-d283c5a4ed79",
    "_uuid": "5a1f5c41-b217-43a9-baea-92ca8b377b7f",
    "collapsed": false,
    "execution": {
     "iopub.execute_input": "2025-06-24T18:37:27.197898Z",
     "iopub.status.busy": "2025-06-24T18:37:27.197203Z",
     "iopub.status.idle": "2025-06-24T18:37:39.326566Z",
     "shell.execute_reply": "2025-06-24T18:37:39.325717Z"
    },
    "jupyter": {
     "outputs_hidden": false
    },
    "papermill": {
     "duration": 12.1345,
     "end_time": "2025-06-24T18:37:39.327960",
     "exception": false,
     "start_time": "2025-06-24T18:37:27.193460",
     "status": "completed"
    },
    "tags": []
   },
   "outputs": [
    {
     "name": "stdout",
     "output_type": "stream",
     "text": [
      "/kaggle/input/fashionmnist/t10k-labels-idx1-ubyte\n",
      "/kaggle/input/fashionmnist/t10k-images-idx3-ubyte\n",
      "/kaggle/input/fashionmnist/fashion-mnist_test.csv\n",
      "/kaggle/input/fashionmnist/fashion-mnist_train.csv\n",
      "/kaggle/input/fashionmnist/train-labels-idx1-ubyte\n",
      "/kaggle/input/fashionmnist/train-images-idx3-ubyte\n"
     ]
    }
   ],
   "source": [
    "#all imports here\n",
    "import numpy as np \n",
    "import pandas as pd\n",
    "import torch\n",
    "import torch.nn as nn\n",
    "import torch.optim as optim\n",
    "from torchvision import datasets, transforms\n",
    "from torch.utils.data import DataLoader\n",
    "import matplotlib.pyplot as plt\n",
    "\n",
    "\n",
    "import os\n",
    "for dirname, _, filenames in os.walk('/kaggle/input'):\n",
    "    for filename in filenames:\n",
    "        print(os.path.join(dirname, filename))\n"
   ]
  },
  {
   "cell_type": "code",
   "execution_count": 2,
   "id": "c5670e20",
   "metadata": {
    "execution": {
     "iopub.execute_input": "2025-06-24T18:37:39.333760Z",
     "iopub.status.busy": "2025-06-24T18:37:39.333230Z",
     "iopub.status.idle": "2025-06-24T18:37:39.420634Z",
     "shell.execute_reply": "2025-06-24T18:37:39.420073Z"
    },
    "papermill": {
     "duration": 0.091327,
     "end_time": "2025-06-24T18:37:39.421853",
     "exception": false,
     "start_time": "2025-06-24T18:37:39.330526",
     "status": "completed"
    },
    "tags": []
   },
   "outputs": [],
   "source": [
    "# Device configuration\n",
    "device = torch.device(\"cuda\" if torch.cuda.is_available() else \"cpu\")"
   ]
  },
  {
   "cell_type": "code",
   "execution_count": 3,
   "id": "fd9b846a",
   "metadata": {
    "execution": {
     "iopub.execute_input": "2025-06-24T18:37:39.427005Z",
     "iopub.status.busy": "2025-06-24T18:37:39.426635Z",
     "iopub.status.idle": "2025-06-24T18:37:39.429981Z",
     "shell.execute_reply": "2025-06-24T18:37:39.429488Z"
    },
    "papermill": {
     "duration": 0.006912,
     "end_time": "2025-06-24T18:37:39.430976",
     "exception": false,
     "start_time": "2025-06-24T18:37:39.424064",
     "status": "completed"
    },
    "tags": []
   },
   "outputs": [],
   "source": [
    "# Data preprocessing\n",
    "transform = transforms.Compose([\n",
    "    transforms.ToTensor(),\n",
    "])\n"
   ]
  },
  {
   "cell_type": "code",
   "execution_count": 4,
   "id": "10418665",
   "metadata": {
    "execution": {
     "iopub.execute_input": "2025-06-24T18:37:39.435726Z",
     "iopub.status.busy": "2025-06-24T18:37:39.435320Z",
     "iopub.status.idle": "2025-06-24T18:37:45.774002Z",
     "shell.execute_reply": "2025-06-24T18:37:45.772997Z"
    },
    "papermill": {
     "duration": 6.342338,
     "end_time": "2025-06-24T18:37:45.775307",
     "exception": false,
     "start_time": "2025-06-24T18:37:39.432969",
     "status": "completed"
    },
    "tags": []
   },
   "outputs": [
    {
     "name": "stderr",
     "output_type": "stream",
     "text": [
      "100%|██████████| 26.4M/26.4M [00:01<00:00, 14.1MB/s]\n",
      "100%|██████████| 29.5k/29.5k [00:00<00:00, 211kB/s]\n",
      "100%|██████████| 4.42M/4.42M [00:01<00:00, 3.89MB/s]\n",
      "100%|██████████| 5.15k/5.15k [00:00<00:00, 13.1MB/s]\n"
     ]
    }
   ],
   "source": [
    "# Load FashionMNIST Dataset\n",
    "train_dataset = datasets.FashionMNIST(root='./data', train=True, transform=transform, download=True)\n",
    "test_dataset = datasets.FashionMNIST(root='./data', train=False, transform=transform, download=True)"
   ]
  },
  {
   "cell_type": "code",
   "execution_count": 5,
   "id": "bbb18c83",
   "metadata": {
    "execution": {
     "iopub.execute_input": "2025-06-24T18:37:45.784574Z",
     "iopub.status.busy": "2025-06-24T18:37:45.783810Z",
     "iopub.status.idle": "2025-06-24T18:37:45.788360Z",
     "shell.execute_reply": "2025-06-24T18:37:45.787750Z"
    },
    "papermill": {
     "duration": 0.01021,
     "end_time": "2025-06-24T18:37:45.789481",
     "exception": false,
     "start_time": "2025-06-24T18:37:45.779271",
     "status": "completed"
    },
    "tags": []
   },
   "outputs": [],
   "source": [
    "batch_size = 32\n",
    "train_loader = DataLoader(train_dataset, batch_size=batch_size, shuffle=True)\n",
    "val_loader = DataLoader(test_dataset, batch_size=batch_size, shuffle=False)"
   ]
  },
  {
   "cell_type": "code",
   "execution_count": 6,
   "id": "711f7db8",
   "metadata": {
    "execution": {
     "iopub.execute_input": "2025-06-24T18:37:45.797330Z",
     "iopub.status.busy": "2025-06-24T18:37:45.796883Z",
     "iopub.status.idle": "2025-06-24T18:37:45.800228Z",
     "shell.execute_reply": "2025-06-24T18:37:45.799686Z"
    },
    "papermill": {
     "duration": 0.008343,
     "end_time": "2025-06-24T18:37:45.801229",
     "exception": false,
     "start_time": "2025-06-24T18:37:45.792886",
     "status": "completed"
    },
    "tags": []
   },
   "outputs": [],
   "source": [
    "# Class names\n",
    "class_names = ['T-shirt/top', 'Trouser', 'Pullover', 'Dress', 'Coat',\n",
    "               'Sandal', 'Shirt', 'Sneaker', 'Bag', 'Ankle boot']"
   ]
  },
  {
   "cell_type": "code",
   "execution_count": 7,
   "id": "6faec4d7",
   "metadata": {
    "execution": {
     "iopub.execute_input": "2025-06-24T18:37:45.808523Z",
     "iopub.status.busy": "2025-06-24T18:37:45.808309Z",
     "iopub.status.idle": "2025-06-24T18:37:46.005463Z",
     "shell.execute_reply": "2025-06-24T18:37:46.004676Z"
    },
    "papermill": {
     "duration": 0.202331,
     "end_time": "2025-06-24T18:37:46.006803",
     "exception": false,
     "start_time": "2025-06-24T18:37:45.804472",
     "status": "completed"
    },
    "tags": []
   },
   "outputs": [],
   "source": [
    "# CNN Model\n",
    "class CNNModel(nn.Module):\n",
    "    def __init__(self):\n",
    "        super(CNNModel, self).__init__()\n",
    "        self.conv1 = nn.Conv2d(1, 32, kernel_size=3)\n",
    "        self.pool1 = nn.MaxPool2d(2, 2)\n",
    "        self.conv2 = nn.Conv2d(32, 64, kernel_size=3)\n",
    "        self.pool2 = nn.MaxPool2d(2, 2)\n",
    "        self.flatten = nn.Flatten()\n",
    "        self.fc1 = nn.Linear(64 * 5 * 5, 64)\n",
    "        self.fc2 = nn.Linear(64, 10)\n",
    "\n",
    "    def forward(self, x):\n",
    "        x = torch.relu(self.conv1(x))\n",
    "        x = self.pool1(x)\n",
    "        x = torch.relu(self.conv2(x))\n",
    "        x = self.pool2(x)\n",
    "        x = self.flatten(x)\n",
    "        x = torch.relu(self.fc1(x))\n",
    "        return self.fc2(x)\n",
    "\n",
    "model = CNNModel().to(device)"
   ]
  },
  {
   "cell_type": "code",
   "execution_count": 8,
   "id": "789130b7",
   "metadata": {
    "execution": {
     "iopub.execute_input": "2025-06-24T18:37:46.014544Z",
     "iopub.status.busy": "2025-06-24T18:37:46.014318Z",
     "iopub.status.idle": "2025-06-24T18:37:46.017760Z",
     "shell.execute_reply": "2025-06-24T18:37:46.017286Z"
    },
    "papermill": {
     "duration": 0.008275,
     "end_time": "2025-06-24T18:37:46.018794",
     "exception": false,
     "start_time": "2025-06-24T18:37:46.010519",
     "status": "completed"
    },
    "tags": []
   },
   "outputs": [],
   "source": [
    "# Loss and optimizer\n",
    "criterion = nn.CrossEntropyLoss()\n",
    "optimizer = optim.Adam(model.parameters(), lr=0.001)"
   ]
  },
  {
   "cell_type": "code",
   "execution_count": 9,
   "id": "bf16e028",
   "metadata": {
    "execution": {
     "iopub.execute_input": "2025-06-24T18:37:46.026054Z",
     "iopub.status.busy": "2025-06-24T18:37:46.025828Z",
     "iopub.status.idle": "2025-06-24T18:41:12.448569Z",
     "shell.execute_reply": "2025-06-24T18:41:12.447682Z"
    },
    "papermill": {
     "duration": 206.427572,
     "end_time": "2025-06-24T18:41:12.449722",
     "exception": false,
     "start_time": "2025-06-24T18:37:46.022150",
     "status": "completed"
    },
    "tags": []
   },
   "outputs": [
    {
     "name": "stdout",
     "output_type": "stream",
     "text": [
      "Epoch [1/20], Step [0/1875], Loss: 2.2995\n",
      "Epoch [1/20], Step [1000/1875], Loss: 0.3610\n",
      "Validation Loss: 0.3657, Validation Accuracy: 0.8720\n",
      "Epoch [2/20], Step [0/1875], Loss: 0.4658\n",
      "Epoch [2/20], Step [1000/1875], Loss: 0.2128\n",
      "Validation Loss: 0.3244, Validation Accuracy: 0.8852\n",
      "Epoch [3/20], Step [0/1875], Loss: 0.3292\n",
      "Epoch [3/20], Step [1000/1875], Loss: 0.1013\n",
      "Validation Loss: 0.2853, Validation Accuracy: 0.8982\n",
      "Epoch [4/20], Step [0/1875], Loss: 0.1630\n",
      "Epoch [4/20], Step [1000/1875], Loss: 0.1324\n",
      "Validation Loss: 0.2765, Validation Accuracy: 0.9002\n",
      "Epoch [5/20], Step [0/1875], Loss: 0.1474\n",
      "Epoch [5/20], Step [1000/1875], Loss: 0.0859\n",
      "Validation Loss: 0.2960, Validation Accuracy: 0.8947\n",
      "Epoch [6/20], Step [0/1875], Loss: 0.1065\n",
      "Epoch [6/20], Step [1000/1875], Loss: 0.2159\n",
      "Validation Loss: 0.2574, Validation Accuracy: 0.9116\n",
      "Epoch [7/20], Step [0/1875], Loss: 0.0870\n",
      "Epoch [7/20], Step [1000/1875], Loss: 0.1616\n",
      "Validation Loss: 0.2520, Validation Accuracy: 0.9120\n",
      "Epoch [8/20], Step [0/1875], Loss: 0.1538\n",
      "Epoch [8/20], Step [1000/1875], Loss: 0.4273\n",
      "Validation Loss: 0.2841, Validation Accuracy: 0.9000\n",
      "Epoch [9/20], Step [0/1875], Loss: 0.1957\n",
      "Epoch [9/20], Step [1000/1875], Loss: 0.1196\n",
      "Validation Loss: 0.2846, Validation Accuracy: 0.9025\n",
      "Epoch [10/20], Step [0/1875], Loss: 0.1165\n",
      "Epoch [10/20], Step [1000/1875], Loss: 0.1037\n",
      "Validation Loss: 0.2766, Validation Accuracy: 0.9058\n",
      "Epoch [11/20], Step [0/1875], Loss: 0.1454\n",
      "Epoch [11/20], Step [1000/1875], Loss: 0.2348\n",
      "Validation Loss: 0.2944, Validation Accuracy: 0.9064\n",
      "Epoch [12/20], Step [0/1875], Loss: 0.0336\n",
      "Epoch [12/20], Step [1000/1875], Loss: 0.0855\n",
      "Validation Loss: 0.2804, Validation Accuracy: 0.9094\n",
      "Epoch [13/20], Step [0/1875], Loss: 0.2543\n",
      "Epoch [13/20], Step [1000/1875], Loss: 0.1413\n",
      "Validation Loss: 0.3063, Validation Accuracy: 0.9042\n",
      "Epoch [14/20], Step [0/1875], Loss: 0.0895\n",
      "Epoch [14/20], Step [1000/1875], Loss: 0.1442\n",
      "Validation Loss: 0.3237, Validation Accuracy: 0.9092\n",
      "Epoch [15/20], Step [0/1875], Loss: 0.0853\n",
      "Epoch [15/20], Step [1000/1875], Loss: 0.0639\n",
      "Validation Loss: 0.3181, Validation Accuracy: 0.9060\n",
      "Epoch [16/20], Step [0/1875], Loss: 0.0607\n",
      "Epoch [16/20], Step [1000/1875], Loss: 0.0714\n",
      "Validation Loss: 0.3521, Validation Accuracy: 0.9096\n",
      "Epoch [17/20], Step [0/1875], Loss: 0.0479\n",
      "Epoch [17/20], Step [1000/1875], Loss: 0.0378\n",
      "Validation Loss: 0.3722, Validation Accuracy: 0.9069\n",
      "Epoch [18/20], Step [0/1875], Loss: 0.0994\n",
      "Epoch [18/20], Step [1000/1875], Loss: 0.0790\n",
      "Validation Loss: 0.3973, Validation Accuracy: 0.9051\n",
      "Epoch [19/20], Step [0/1875], Loss: 0.1168\n",
      "Epoch [19/20], Step [1000/1875], Loss: 0.0341\n",
      "Validation Loss: 0.3977, Validation Accuracy: 0.9078\n",
      "Epoch [20/20], Step [0/1875], Loss: 0.1745\n",
      "Epoch [20/20], Step [1000/1875], Loss: 0.0744\n",
      "Validation Loss: 0.4303, Validation Accuracy: 0.9044\n"
     ]
    }
   ],
   "source": [
    "epochs = 20\n",
    "for epoch in range(epochs):\n",
    "    model.train()\n",
    "    running_loss = 0.0\n",
    "    for i, (images, labels) in enumerate(train_loader):\n",
    "        images, labels = images.to(device), labels.to(device)\n",
    "\n",
    "        # Forward pass\n",
    "        outputs = model(images)\n",
    "        loss = criterion(outputs, labels)\n",
    "\n",
    "        # Backward pass and optimize\n",
    "        optimizer.zero_grad()\n",
    "        loss.backward()\n",
    "        optimizer.step()\n",
    "\n",
    "        if i % 1000 == 0:\n",
    "            print(f\"Epoch [{epoch+1}/{epochs}], Step [{i}/{len(train_loader)}], Loss: {loss.item():.4f}\")\n",
    "\n",
    "    # Validation loop\n",
    "    model.eval()\n",
    "    val_loss = 0\n",
    "    correct = 0\n",
    "    total = 0\n",
    "    with torch.no_grad():\n",
    "        for images, labels in val_loader:\n",
    "            images, labels = images.to(device), labels.to(device)\n",
    "            outputs = model(images)\n",
    "            val_loss += criterion(outputs, labels).item()\n",
    "            _, predicted = torch.max(outputs.data, 1)\n",
    "            total += labels.size(0)\n",
    "            correct += (predicted == labels).sum().item()\n",
    "\n",
    "    avg_val_loss = val_loss / len(val_loader)\n",
    "    val_accuracy = correct / total\n",
    "    print(f\"Validation Loss: {avg_val_loss:.4f}, Validation Accuracy: {val_accuracy:.4f}\")\n",
    "\n",
    "    # Save model\n",
    "    torch.save(model.state_dict(), \"/kaggle/working/fashion_mnist_model.pth\")\n"
   ]
  },
  {
   "cell_type": "code",
   "execution_count": null,
   "id": "d21bff5c",
   "metadata": {
    "papermill": {
     "duration": 0.004515,
     "end_time": "2025-06-24T18:41:12.459570",
     "exception": false,
     "start_time": "2025-06-24T18:41:12.455055",
     "status": "completed"
    },
    "tags": []
   },
   "outputs": [],
   "source": []
  }
 ],
 "metadata": {
  "kaggle": {
   "accelerator": "nvidiaTeslaT4",
   "dataSources": [
    {
     "datasetId": 2243,
     "sourceId": 9243,
     "sourceType": "datasetVersion"
    }
   ],
   "isGpuEnabled": true,
   "isInternetEnabled": true,
   "language": "python",
   "sourceType": "notebook"
  },
  "kernelspec": {
   "display_name": "Python 3",
   "language": "python",
   "name": "python3"
  },
  "language_info": {
   "codemirror_mode": {
    "name": "ipython",
    "version": 3
   },
   "file_extension": ".py",
   "mimetype": "text/x-python",
   "name": "python",
   "nbconvert_exporter": "python",
   "pygments_lexer": "ipython3",
   "version": "3.11.11"
  },
  "papermill": {
   "default_parameters": {},
   "duration": 232.520902,
   "end_time": "2025-06-24T18:41:15.018509",
   "environment_variables": {},
   "exception": null,
   "input_path": "__notebook__.ipynb",
   "output_path": "__notebook__.ipynb",
   "parameters": {},
   "start_time": "2025-06-24T18:37:22.497607",
   "version": "2.6.0"
  }
 },
 "nbformat": 4,
 "nbformat_minor": 5
}
