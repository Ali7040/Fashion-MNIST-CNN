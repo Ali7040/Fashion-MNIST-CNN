{
 "cells": [
  {
   "cell_type": "code",
   "execution_count": 1,
   "id": "5eaf2712",
   "metadata": {
    "_cell_guid": "5364e53a-1c17-4924-bb19-d283c5a4ed79",
    "_uuid": "5a1f5c41-b217-43a9-baea-92ca8b377b7f",
    "collapsed": false,
    "execution": {
     "iopub.execute_input": "2025-06-19T14:16:30.447002Z",
     "iopub.status.busy": "2025-06-19T14:16:30.446757Z",
     "iopub.status.idle": "2025-06-19T14:16:48.005063Z",
     "shell.execute_reply": "2025-06-19T14:16:48.004163Z"
    },
    "jupyter": {
     "outputs_hidden": false
    },
    "papermill": {
     "duration": 17.562084,
     "end_time": "2025-06-19T14:16:48.006382",
     "exception": false,
     "start_time": "2025-06-19T14:16:30.444298",
     "status": "completed"
    },
    "tags": []
   },
   "outputs": [
    {
     "name": "stdout",
     "output_type": "stream",
     "text": [
      "/kaggle/input/fashionmnist/t10k-labels-idx1-ubyte\n",
      "/kaggle/input/fashionmnist/t10k-images-idx3-ubyte\n",
      "/kaggle/input/fashionmnist/fashion-mnist_test.csv\n",
      "/kaggle/input/fashionmnist/fashion-mnist_train.csv\n",
      "/kaggle/input/fashionmnist/train-labels-idx1-ubyte\n",
      "/kaggle/input/fashionmnist/train-images-idx3-ubyte\n"
     ]
    }
   ],
   "source": [
    "#all imports here\n",
    "import numpy as np \n",
    "import pandas as pd\n",
    "import torch\n",
    "import torch.nn as nn\n",
    "import torch.optim as optim\n",
    "from torchvision import datasets, transforms\n",
    "from torch.utils.data import DataLoader\n",
    "import matplotlib.pyplot as plt\n",
    "\n",
    "\n",
    "import os\n",
    "for dirname, _, filenames in os.walk('/kaggle/input'):\n",
    "    for filename in filenames:\n",
    "        print(os.path.join(dirname, filename))\n"
   ]
  },
  {
   "cell_type": "code",
   "execution_count": null,
   "id": "4be03688",
   "metadata": {
    "execution": {
     "iopub.execute_input": "2025-06-19T14:11:45.753976Z",
     "iopub.status.busy": "2025-06-19T14:11:45.753791Z",
     "iopub.status.idle": "2025-06-19T14:11:58.161475Z",
     "shell.execute_reply": "2025-06-19T14:11:58.160702Z",
     "shell.execute_reply.started": "2025-06-19T14:11:45.753960Z"
    },
    "papermill": {
     "duration": 0.001095,
     "end_time": "2025-06-19T14:16:48.009320",
     "exception": false,
     "start_time": "2025-06-19T14:16:48.008225",
     "status": "completed"
    },
    "tags": []
   },
   "outputs": [],
   "source": []
  },
  {
   "cell_type": "code",
   "execution_count": null,
   "id": "1fd5915a",
   "metadata": {
    "papermill": {
     "duration": 0.000909,
     "end_time": "2025-06-19T14:16:48.011355",
     "exception": false,
     "start_time": "2025-06-19T14:16:48.010446",
     "status": "completed"
    },
    "tags": []
   },
   "outputs": [],
   "source": []
  }
 ],
 "metadata": {
  "kaggle": {
   "accelerator": "nvidiaTeslaT4",
   "dataSources": [
    {
     "datasetId": 2243,
     "sourceId": 9243,
     "sourceType": "datasetVersion"
    }
   ],
   "isGpuEnabled": true,
   "isInternetEnabled": true,
   "language": "python",
   "sourceType": "notebook"
  },
  "kernelspec": {
   "display_name": "Python 3",
   "language": "python",
   "name": "python3"
  },
  "language_info": {
   "codemirror_mode": {
    "name": "ipython",
    "version": 3
   },
   "file_extension": ".py",
   "mimetype": "text/x-python",
   "name": "python",
   "nbconvert_exporter": "python",
   "pygments_lexer": "ipython3",
   "version": "3.11.11"
  },
  "papermill": {
   "default_parameters": {},
   "duration": 27.232953,
   "end_time": "2025-06-19T14:16:51.199034",
   "environment_variables": {},
   "exception": null,
   "input_path": "__notebook__.ipynb",
   "output_path": "__notebook__.ipynb",
   "parameters": {},
   "start_time": "2025-06-19T14:16:23.966081",
   "version": "2.6.0"
  }
 },
 "nbformat": 4,
 "nbformat_minor": 5
}
